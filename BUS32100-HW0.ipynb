{
 "cells": [
  {
   "cell_type": "markdown",
   "metadata": {},
   "source": [
    "# BUS32100, HW 0\n",
    "\n",
    "Please follow the directions on Canvas for how to download/upload your homework. Keep your output displayed to make grading easier for us! "
   ]
  },
  {
   "cell_type": "markdown",
   "metadata": {},
   "source": [
    "### 1) Lists in Python"
   ]
  },
  {
   "cell_type": "markdown",
   "metadata": {},
   "source": [
    "### 1a"
   ]
  },
  {
   "cell_type": "code",
   "execution_count": 46,
   "metadata": {},
   "outputs": [
    {
     "name": "stdout",
     "output_type": "stream",
     "text": [
      "5\n",
      "variable\n",
      "6.8\n",
      "5\n",
      "False\n"
     ]
    }
   ],
   "source": [
    "# todo: create several variables in Python\n",
    "\n",
    "x = 5\n",
    "y = 'variable'\n",
    "z = 6.8\n",
    "a = x\n",
    "b = False\n",
    "\n",
    "int_z = int(z)\n",
    "\n",
    "print(x)\n",
    "print(y)\n",
    "print(z)\n",
    "print(a)\n",
    "print(b)\n",
    "\n"
   ]
  },
  {
   "cell_type": "markdown",
   "metadata": {},
   "source": [
    "### 1b"
   ]
  },
  {
   "cell_type": "code",
   "execution_count": 47,
   "metadata": {},
   "outputs": [
    {
     "name": "stdout",
     "output_type": "stream",
     "text": [
      "[1, 2, 3]\n",
      "[8, [1, 2, 3], [7, 2]]\n",
      "[99, 'six', 21.7]\n",
      "(4, 5, 6)\n"
     ]
    }
   ],
   "source": [
    "# todo: create several lists in Python, some with homogenous types and some with heterogenous types\n",
    "\n",
    "new_list = [1,2,3]\n",
    "\n",
    "newer_list = [8, new_list, [7,2]]\n",
    "\n",
    "different_list = [99,'six',21.7]\n",
    "\n",
    "new_tuple = (4,5,6)\n",
    "\n",
    "print(new_list)\n",
    "print(newer_list)\n",
    "print(different_list)\n",
    "print(new_tuple)"
   ]
  },
  {
   "cell_type": "markdown",
   "metadata": {},
   "source": [
    "### 1c"
   ]
  },
  {
   "cell_type": "code",
   "execution_count": 48,
   "metadata": {},
   "outputs": [
    {
     "name": "stdout",
     "output_type": "stream",
     "text": [
      "[1, 2, 3, 4, 5, 6, 7, 8, 9, 10]\n",
      "[1, 2, 3, 4]\n",
      "[3, 5, 7, 9]\n"
     ]
    }
   ],
   "source": [
    "# todo: return a slice from one of your Python lists (slice can be any length you choose. experiment!)\n",
    "\n",
    "slice_list = [1,2,3,4,5,6,7,8,9,10]\n",
    "print(slice_list)\n",
    "\n",
    "print(slice_list[0:4])\n",
    "\n",
    "print(slice_list[2:10:2])\n"
   ]
  },
  {
   "cell_type": "markdown",
   "metadata": {},
   "source": [
    "### 1d"
   ]
  },
  {
   "cell_type": "code",
   "execution_count": 49,
   "metadata": {},
   "outputs": [
    {
     "data": {
      "text/plain": [
       "[1, 4, 7, 10]"
      ]
     },
     "execution_count": 49,
     "metadata": {},
     "output_type": "execute_result"
    }
   ],
   "source": [
    "# todo: return a slice of a list but only return every third element\n",
    "\n",
    "slice_list[::3]\n",
    "\n"
   ]
  },
  {
   "cell_type": "markdown",
   "metadata": {},
   "source": [
    "### 1e"
   ]
  },
  {
   "cell_type": "code",
   "execution_count": 50,
   "metadata": {},
   "outputs": [
    {
     "data": {
      "text/plain": [
       "[10, 9, 8, 7, 6, 5, 4, 3, 2]"
      ]
     },
     "execution_count": 50,
     "metadata": {},
     "output_type": "execute_result"
    }
   ],
   "source": [
    "# todo: return a slice of a list, starting from the end of the list\n",
    "\n",
    "slice_list[9:0:-1]\n"
   ]
  },
  {
   "cell_type": "markdown",
   "metadata": {},
   "source": [
    "## 2) If-Else statements in Python"
   ]
  },
  {
   "cell_type": "markdown",
   "metadata": {},
   "source": [
    "### 2a"
   ]
  },
  {
   "cell_type": "code",
   "execution_count": 51,
   "metadata": {},
   "outputs": [
    {
     "name": "stdout",
     "output_type": "stream",
     "text": [
      "Well, you could be hungry later?\n"
     ]
    }
   ],
   "source": [
    "# todo: write an if-else statement using only an if and an else clause\n",
    "\n",
    "hungry = 0\n",
    "\n",
    "if (hungry):\n",
    "    print(\"Then eat!\")\n",
    "else:\n",
    "    print(\"Well, you could be hungry later?\")"
   ]
  },
  {
   "cell_type": "markdown",
   "metadata": {},
   "source": [
    "### 2b"
   ]
  },
  {
   "cell_type": "code",
   "execution_count": 52,
   "metadata": {},
   "outputs": [
    {
     "name": "stdout",
     "output_type": "stream",
     "text": [
      "fizzbuzz\n",
      "1\n",
      "2\n",
      "fizz\n",
      "4\n",
      "buzz\n",
      "fizz\n",
      "7\n",
      "8\n",
      "fizz\n",
      "buzz\n",
      "11\n",
      "fizz\n",
      "13\n",
      "14\n",
      "fizzbuzz\n",
      "16\n",
      "17\n",
      "fizz\n",
      "19\n",
      "20\n"
     ]
    }
   ],
   "source": [
    "# todo: write an if-else statement but using an if, elif, and else clauses\n",
    "\n",
    "def stuff(my_num):\n",
    "    for i in range(my_num):\n",
    "        if i % 3 == 0 and i % 5 == 0:\n",
    "            print('fizzbuzz')\n",
    "        elif i % 3 == 0:\n",
    "            print('fizz')\n",
    "        elif i % 5 == 0:\n",
    "            print('buzz')\n",
    "        else: print(i)\n",
    "    return print(my_num)\n",
    "\n",
    "\n",
    "stuff(20)"
   ]
  },
  {
   "cell_type": "markdown",
   "metadata": {},
   "source": [
    "## 3) Functions in Python"
   ]
  },
  {
   "cell_type": "markdown",
   "metadata": {},
   "source": [
    "### 3a"
   ]
  },
  {
   "cell_type": "code",
   "execution_count": 53,
   "metadata": {},
   "outputs": [
    {
     "name": "stdout",
     "output_type": "stream",
     "text": [
      "4 4 0\n",
      "4 5 4\n",
      "5 6 9\n",
      "6 7 15\n"
     ]
    }
   ],
   "source": [
    "# todo: write a function that takes in an integer and prints out:\n",
    "# the prior number, the current number, and a running sum\n",
    "\n",
    "newer_list = []\n",
    "\n",
    "def q3 (num):\n",
    "    \n",
    "    num_list = []\n",
    "    num_list.append(num)\n",
    "    \n",
    "    newer_list.extend(num_list)\n",
    "    \n",
    "    x = len(newer_list) - 1 \n",
    "    y = len(newer_list) - 2\n",
    "\n",
    "    RunningSum=0\n",
    "    for i in range(x):\n",
    "        RunningSum=RunningSum+newer_list[i]\n",
    "    \n",
    "    print(newer_list[y],num,RunningSum)\n",
    "    \n",
    "    \n",
    "\n",
    "q3(4)\n",
    "q3(5)\n",
    "q3(6)\n",
    "q3(7)\n",
    "\n",
    "\n",
    "def numbers(num)\n",
    "    \n",
    "\n",
    "\n",
    "\n"
   ]
  },
  {
   "cell_type": "markdown",
   "metadata": {},
   "source": [
    "### 3b"
   ]
  },
  {
   "cell_type": "code",
   "execution_count": 59,
   "metadata": {},
   "outputs": [
    {
     "name": "stdout",
     "output_type": "stream",
     "text": [
      "s\n",
      "e\n",
      "l\n",
      "p\n",
      "p\n",
      "a\n",
      "This works!\n",
      "Are we sure this works?\n"
     ]
    }
   ],
   "source": [
    "# todo: write a function that takes in a string and prints out the characters in backwards order\n",
    "\n",
    "def reverse(s):\n",
    "   for letters in reversed(s):\n",
    "     print (letters)\n",
    "reverse('apples')\n",
    "\n",
    "\n",
    "def backwards(x):\n",
    "  return print(x[::-1])\n",
    "\n",
    "text = backwards(\"!skrow sihT\")\n",
    "test = backwards(\"?skrow siht erus ew erA\")"
   ]
  },
  {
   "cell_type": "markdown",
   "metadata": {},
   "source": [
    "### 3c"
   ]
  },
  {
   "cell_type": "code",
   "execution_count": 60,
   "metadata": {},
   "outputs": [
    {
     "name": "stdout",
     "output_type": "stream",
     "text": [
      "* w*nt t* g* **t to br*nch th*s w**k*nd. * th*nk we sho*ld go to B*rr*o on Sund*y.\n"
     ]
    }
   ],
   "source": [
    "# todo: write a function that takes in a long string (several sentences) and *returns* the string (doesn't print it out)\n",
    "# with random vowels replaced with '*' to make it look hilariously censored\n",
    "\n",
    "import random\n",
    "def censored(string):\n",
    "    x = random.randint(0,10)\n",
    "    string = string.replace('a', '*', x)\n",
    "    string = string.replace('A', '*', x)\n",
    "    string = string.replace('e', '*', x)\n",
    "    string = string.replace('E', '*', x)\n",
    "    string = string.replace('i', '*', x)\n",
    "    string = string.replace('I', '*', x)\n",
    "    string = string.replace('o', '*', x)\n",
    "    string = string.replace('O', '*', x)\n",
    "    string = string.replace('u', '*', x)\n",
    "    string = string.replace('U', '*', x)\n",
    "    print(string)\n",
    "\n",
    "    \n",
    "censored('I want to go out to brunch this weekend. I think we should go to Barrio on Sunday.')"
   ]
  },
  {
   "cell_type": "markdown",
   "metadata": {},
   "source": [
    "### 3d"
   ]
  },
  {
   "cell_type": "code",
   "execution_count": 62,
   "metadata": {},
   "outputs": [
    {
     "name": "stdout",
     "output_type": "stream",
     "text": [
      "List 2 is the greater sum and equal to 15\n",
      "List 1 is the greater sum and equal to 16\n"
     ]
    }
   ],
   "source": [
    "#  todo: write a function that takes two lists of numbers as inputs, sums each list, and returns the largest sum\n",
    "\n",
    "def sum_list (list1, list2):\n",
    "    \n",
    "    list1_length = len(list1)\n",
    "    list2_length = len(list2)\n",
    "    sumOfList1 = 0\n",
    "    sumOfList2 = 0\n",
    "    \n",
    "    for i in range(list1_length):\n",
    "        sumOfList1=sumOfList1+list1[i]\n",
    "\n",
    "    for i in range(list2_length):\n",
    "        sumOfList2=sumOfList2+list2[i]\n",
    "\n",
    "    if sumOfList1 > sumOfList2:\n",
    "        print(\"List 1 is the greater sum and equal to\",sumOfList1)\n",
    "    else:\n",
    "        print(\"List 2 is the greater sum and equal to\",sumOfList2)\n",
    "    \n",
    "x = [1,2,3]    \n",
    "y = [4,5,6]\n",
    "z = [11,1,4]\n",
    "\n",
    "sum_list(x,y)\n",
    "sum_list(z,y)"
   ]
  },
  {
   "cell_type": "code",
   "execution_count": null,
   "metadata": {},
   "outputs": [],
   "source": []
  },
  {
   "cell_type": "code",
   "execution_count": null,
   "metadata": {},
   "outputs": [],
   "source": []
  }
 ],
 "metadata": {
  "kernelspec": {
   "display_name": "Python 3",
   "language": "python",
   "name": "python3"
  },
  "language_info": {
   "codemirror_mode": {
    "name": "ipython",
    "version": 3
   },
   "file_extension": ".py",
   "mimetype": "text/x-python",
   "name": "python",
   "nbconvert_exporter": "python",
   "pygments_lexer": "ipython3",
   "version": "3.8.8"
  }
 },
 "nbformat": 4,
 "nbformat_minor": 4
}
